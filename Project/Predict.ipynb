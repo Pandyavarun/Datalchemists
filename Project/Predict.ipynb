{
 "cells": [
  {
   "cell_type": "code",
   "execution_count": 10,
   "id": "5dd6831a",
   "metadata": {},
   "outputs": [],
   "source": [
    "import pandas as pd\n",
    "import numpy as np\n",
    "from sklearn.model_selection import train_test_split\n",
    "from sklearn.ensemble import RandomForestClassifier\n",
    "from sklearn.metrics import accuracy_score"
   ]
  },
  {
   "cell_type": "code",
   "execution_count": 11,
   "id": "8769c7f1",
   "metadata": {},
   "outputs": [],
   "source": [
    "data = pd.read_csv(\"user_exp_salary.csv\")"
   ]
  },
  {
   "cell_type": "code",
   "execution_count": 12,
   "id": "eca828e5",
   "metadata": {},
   "outputs": [
    {
     "data": {
      "text/html": [
       "<div>\n",
       "<style scoped>\n",
       "    .dataframe tbody tr th:only-of-type {\n",
       "        vertical-align: middle;\n",
       "    }\n",
       "\n",
       "    .dataframe tbody tr th {\n",
       "        vertical-align: top;\n",
       "    }\n",
       "\n",
       "    .dataframe thead th {\n",
       "        text-align: right;\n",
       "    }\n",
       "</style>\n",
       "<table border=\"1\" class=\"dataframe\">\n",
       "  <thead>\n",
       "    <tr style=\"text-align: right;\">\n",
       "      <th></th>\n",
       "      <th>User ID</th>\n",
       "      <th>Monthly_Salary</th>\n",
       "      <th>Monthly_Expense</th>\n",
       "      <th>MF1</th>\n",
       "      <th>MF2</th>\n",
       "      <th>MF3</th>\n",
       "    </tr>\n",
       "  </thead>\n",
       "  <tbody>\n",
       "    <tr>\n",
       "      <th>0</th>\n",
       "      <td>FI001</td>\n",
       "      <td>25000</td>\n",
       "      <td>12000</td>\n",
       "      <td>HDFC Index Fund - Nifty 50 Plan</td>\n",
       "      <td>Aditya Birla Sun Life Index Fund</td>\n",
       "      <td>Axis Nifty ETF</td>\n",
       "    </tr>\n",
       "    <tr>\n",
       "      <th>1</th>\n",
       "      <td>FI002</td>\n",
       "      <td>35000</td>\n",
       "      <td>13000</td>\n",
       "      <td>SBI Nifty Index Fund</td>\n",
       "      <td>ICICI Prudential Nifty Index Fund</td>\n",
       "      <td>UTI Nifty Index Fund</td>\n",
       "    </tr>\n",
       "    <tr>\n",
       "      <th>2</th>\n",
       "      <td>FI003</td>\n",
       "      <td>40000</td>\n",
       "      <td>15000</td>\n",
       "      <td>Aditya Birla Sun Life Index Fund</td>\n",
       "      <td>Axis Nifty ETF</td>\n",
       "      <td>Kotak Nifty ETF</td>\n",
       "    </tr>\n",
       "    <tr>\n",
       "      <th>3</th>\n",
       "      <td>FI004</td>\n",
       "      <td>55000</td>\n",
       "      <td>20000</td>\n",
       "      <td>ICICI Prudential Nifty Index Fund</td>\n",
       "      <td>UTI Nifty Index Fund</td>\n",
       "      <td>Motilal Oswal Nifty 500 Fund</td>\n",
       "    </tr>\n",
       "    <tr>\n",
       "      <th>4</th>\n",
       "      <td>FI005</td>\n",
       "      <td>60000</td>\n",
       "      <td>22000</td>\n",
       "      <td>Axis Nifty ETF</td>\n",
       "      <td>Kotak Nifty ETF</td>\n",
       "      <td>Edelweiss Nifty ETF</td>\n",
       "    </tr>\n",
       "  </tbody>\n",
       "</table>\n",
       "</div>"
      ],
      "text/plain": [
       "  User ID  Monthly_Salary  Monthly_Expense                                MF1  \\\n",
       "0   FI001           25000            12000    HDFC Index Fund - Nifty 50 Plan   \n",
       "1   FI002           35000            13000               SBI Nifty Index Fund   \n",
       "2   FI003           40000            15000   Aditya Birla Sun Life Index Fund   \n",
       "3   FI004           55000            20000  ICICI Prudential Nifty Index Fund   \n",
       "4   FI005           60000            22000                     Axis Nifty ETF   \n",
       "\n",
       "                                 MF2                           MF3  \n",
       "0   Aditya Birla Sun Life Index Fund                Axis Nifty ETF  \n",
       "1  ICICI Prudential Nifty Index Fund          UTI Nifty Index Fund  \n",
       "2                     Axis Nifty ETF               Kotak Nifty ETF  \n",
       "3               UTI Nifty Index Fund  Motilal Oswal Nifty 500 Fund  \n",
       "4                    Kotak Nifty ETF           Edelweiss Nifty ETF  "
      ]
     },
     "execution_count": 12,
     "metadata": {},
     "output_type": "execute_result"
    }
   ],
   "source": [
    "data.head()"
   ]
  },
  {
   "cell_type": "code",
   "execution_count": 13,
   "id": "31dbd923",
   "metadata": {},
   "outputs": [],
   "source": [
    "X = data[['Monthly_Salary', 'Monthly_Expense']]\n",
    "y1 = data['MF1']\n",
    "y2 = data['MF2']\n",
    "y3 = data['MF3']"
   ]
  },
  {
   "cell_type": "code",
   "execution_count": 14,
   "id": "9cbb4039",
   "metadata": {},
   "outputs": [],
   "source": [
    "X_train, X_test, y1_train, y1_test = train_test_split(X, y1, test_size=0.1, random_state=42)\n",
    "X_train, X_test, y2_train, y2_test = train_test_split(X, y2, test_size=0.1, random_state=42)\n",
    "X_train, X_test,y3_train, y3_test = train_test_split(X, y3, test_size=0.1, random_state=42)"
   ]
  },
  {
   "cell_type": "code",
   "execution_count": 15,
   "id": "a4c5ad8f",
   "metadata": {},
   "outputs": [],
   "source": [
    "from sklearn.tree import DecisionTreeClassifier"
   ]
  },
  {
   "cell_type": "code",
   "execution_count": 16,
   "id": "42a31d8b",
   "metadata": {},
   "outputs": [
    {
     "data": {
      "text/plain": [
       "DecisionTreeClassifier()"
      ]
     },
     "execution_count": 16,
     "metadata": {},
     "output_type": "execute_result"
    }
   ],
   "source": [
    "clf1 = DecisionTreeClassifier()\n",
    "clf1.fit(X_train, y1_train)\n",
    "\n",
    "clf2 = DecisionTreeClassifier()\n",
    "clf2.fit(X_train, y2_train)\n",
    "\n",
    "clf3 = DecisionTreeClassifier()\n",
    "clf3.fit(X_train, y3_train)"
   ]
  },
  {
   "cell_type": "code",
   "execution_count": 17,
   "id": "f7830951",
   "metadata": {},
   "outputs": [],
   "source": [
    "y1_pred = clf1.predict(X_test)\n",
    "y2_pred = clf2.predict(X_test)\n",
    "y3_pred = clf3.predict(X_test)"
   ]
  },
  {
   "cell_type": "code",
   "execution_count": 18,
   "id": "8c8a9304",
   "metadata": {},
   "outputs": [
    {
     "data": {
      "text/plain": [
       "0.6363636363636364"
      ]
     },
     "execution_count": 18,
     "metadata": {},
     "output_type": "execute_result"
    }
   ],
   "source": [
    "accuracy1 = accuracy_score(y1_test, y1_pred)\n",
    "accuracy1"
   ]
  },
  {
   "cell_type": "code",
   "execution_count": 19,
   "id": "9406a2d6",
   "metadata": {},
   "outputs": [
    {
     "data": {
      "text/plain": [
       "0.7272727272727273"
      ]
     },
     "execution_count": 19,
     "metadata": {},
     "output_type": "execute_result"
    }
   ],
   "source": [
    "accuracy2 = accuracy_score(y2_test, y2_pred)\n",
    "accuracy2"
   ]
  },
  {
   "cell_type": "code",
   "execution_count": 20,
   "id": "dfbf7354",
   "metadata": {},
   "outputs": [
    {
     "data": {
      "text/plain": [
       "0.7272727272727273"
      ]
     },
     "execution_count": 20,
     "metadata": {},
     "output_type": "execute_result"
    }
   ],
   "source": [
    "accuracy3 = accuracy_score(y3_test, y3_pred)\n",
    "accuracy3"
   ]
  },
  {
   "cell_type": "code",
   "execution_count": 21,
   "id": "3b2a4733",
   "metadata": {},
   "outputs": [
    {
     "name": "stdout",
     "output_type": "stream",
     "text": [
      "Enter monthly salary55000\n",
      "Enter monthly expenses34000\n",
      "Finovate recommends you to invest in [['ICICI Prudential Nifty Index Fund']\n",
      " ['UTI Nifty Index Fund']\n",
      " ['Motilal Oswal Nifty 500 Fund']]\n"
     ]
    }
   ],
   "source": [
    "def pred():\n",
    "    slr=int(input(\"Enter monthly salary\"))\n",
    "    exp=int(input(\"Enter monthly expenses\"))\n",
    "    r1=clf1.predict([[slr,exp]])\n",
    "    r2=clf2.predict([[slr,exp]])\n",
    "    r3=clf3.predict([[slr,exp]])\n",
    "    a=np.array([r1,r2,r3])\n",
    "    return a\n",
    "print(\"Finovate recommends you to invest in\",pred())"
   ]
  },
  {
   "cell_type": "code",
   "execution_count": 22,
   "id": "b866fbeb",
   "metadata": {},
   "outputs": [],
   "source": [
    "import pickle"
   ]
  },
  {
   "cell_type": "code",
   "execution_count": 23,
   "id": "a87cb569",
   "metadata": {},
   "outputs": [],
   "source": [
    "with open('model','wb') as f:\n",
    "    pickle.dump((clf1,clf2,clf3),f)"
   ]
  },
  {
   "cell_type": "code",
   "execution_count": 24,
   "id": "376a4416",
   "metadata": {},
   "outputs": [],
   "source": [
    "with open('model','rb') as f:\n",
    "    m1,m2,m3=pickle.load(f)"
   ]
  },
  {
   "cell_type": "code",
   "execution_count": 25,
   "id": "5e8cfc13",
   "metadata": {},
   "outputs": [],
   "source": [
    "with open('text_file.txt', 'w') as f:\n",
    "    f.write(str(data))"
   ]
  },
  {
   "cell_type": "code",
   "execution_count": null,
   "id": "c0087f24",
   "metadata": {},
   "outputs": [],
   "source": []
  },
  {
   "cell_type": "code",
   "execution_count": 29,
   "id": "03f46666",
   "metadata": {},
   "outputs": [
    {
     "name": "stdout",
     "output_type": "stream",
     "text": [
      "There is no file\n"
     ]
    }
   ],
   "source": [
    "try:\n",
    "    with open('text_file','rb') as f:\n",
    "        try: \n",
    "            s=pickle.load(f)\n",
    "            print(s)\n",
    "        except:          \n",
    "            print('file empty')\n",
    "except:\n",
    "    print('There is no file')"
   ]
  },
  {
   "cell_type": "code",
   "execution_count": null,
   "id": "86b52e00",
   "metadata": {},
   "outputs": [],
   "source": []
  }
 ],
 "metadata": {
  "kernelspec": {
   "display_name": "Python 3 (ipykernel)",
   "language": "python",
   "name": "python3"
  },
  "language_info": {
   "codemirror_mode": {
    "name": "ipython",
    "version": 3
   },
   "file_extension": ".py",
   "mimetype": "text/x-python",
   "name": "python",
   "nbconvert_exporter": "python",
   "pygments_lexer": "ipython3",
   "version": "3.9.7"
  }
 },
 "nbformat": 4,
 "nbformat_minor": 5
}
